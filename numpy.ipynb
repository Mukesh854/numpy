{
 "cells": [
  {
   "cell_type": "markdown",
   "id": "b8b75173-9510-4b26-bde1-f5ded84626ff",
   "metadata": {},
   "source": [
    "#Numpy assignment"
   ]
  },
  {
   "cell_type": "code",
   "execution_count": 26,
   "id": "07381bc0-7b94-4026-b51c-ebb877a7ded8",
   "metadata": {},
   "outputs": [
    {
     "data": {
      "text/plain": [
       "array([1, 2, 3, 4, 5])"
      ]
     },
     "execution_count": 26,
     "metadata": {},
     "output_type": "execute_result"
    }
   ],
   "source": [
    "import numpy as np\n",
    "list_ = [ \"1\" , \"2\" , \"3\" , \"4\" , \"5\" ]\n",
    "array_list = np.array(object = list_ ,dtype=int)\n",
    "array_list"
   ]
  },
  {
   "cell_type": "markdown",
   "id": "7dff6369-a27a-4a73-bca9-15c5ede9db11",
   "metadata": {},
   "source": [
    "Q1. Is there any difference in the data type of variables list_ and array_list? If there is then write a code\n",
    "to print the data types of both the variables."
   ]
  },
  {
   "cell_type": "code",
   "execution_count": 4,
   "id": "debc7d24-3f4f-48e6-8115-a34a470e49f2",
   "metadata": {},
   "outputs": [
    {
     "data": {
      "text/plain": [
       "['1', '2', '3', '4', '5']"
      ]
     },
     "execution_count": 4,
     "metadata": {},
     "output_type": "execute_result"
    }
   ],
   "source": [
    "list_"
   ]
  },
  {
   "cell_type": "code",
   "execution_count": 9,
   "id": "ad31416a-03db-44af-98ba-e1a0b6a5d4b5",
   "metadata": {},
   "outputs": [
    {
     "name": "stdout",
     "output_type": "stream",
     "text": [
      "Data type of variable list :  <class 'list'>\n"
     ]
    }
   ],
   "source": [
    "dtype1=type(list_)\n",
    "print(\"Data type of variable list : \", dtype1)"
   ]
  },
  {
   "cell_type": "code",
   "execution_count": 10,
   "id": "e9a3351b-ad76-4c6c-a517-f0645e5bf4f6",
   "metadata": {},
   "outputs": [
    {
     "name": "stdout",
     "output_type": "stream",
     "text": [
      "Data type of varaible array_list :  <class 'numpy.ndarray'>\n"
     ]
    }
   ],
   "source": [
    "data2=type(array_list)\n",
    "print(\"Data type of varaible array_list : \", data2)"
   ]
  },
  {
   "cell_type": "markdown",
   "id": "b3a5b49e-e214-4669-bb16-c27515d5e3d0",
   "metadata": {},
   "source": [
    "Q2. Write a code to print the data type of each and every element of both the variables list_ and\n",
    "arra_list."
   ]
  },
  {
   "cell_type": "code",
   "execution_count": 30,
   "id": "4f2012dd-cc6e-4bbc-9628-246955709fa5",
   "metadata": {},
   "outputs": [
    {
     "name": "stdout",
     "output_type": "stream",
     "text": [
      "\n",
      "Data of each and every elements of list\n",
      "<class 'list'>\n",
      "<class 'list'>\n",
      "<class 'list'>\n",
      "<class 'list'>\n",
      "<class 'list'>\n",
      "\n",
      "Data of each and every elements of array list\n",
      "<class 'numpy.ndarray'>\n",
      "<class 'numpy.ndarray'>\n",
      "<class 'numpy.ndarray'>\n",
      "<class 'numpy.ndarray'>\n",
      "<class 'numpy.ndarray'>\n"
     ]
    }
   ],
   "source": [
    "def dtypes(x):\n",
    "    for i in list_:\n",
    "        \n",
    "        print(type(list_))\n",
    "\n",
    "print(\"\\nData of each and every elements of list\")\n",
    "dtypes(2) \n",
    "\n",
    "def dtypes2(x):\n",
    "    for i in array_list:\n",
    "        print(type(array_list))\n",
    "print(\"\\nData of each and every elements of array list\")     \n",
    "dtypes2(3)"
   ]
  },
  {
   "cell_type": "markdown",
   "id": "ab5c3d44-f851-4882-8080-e0a1b2d8ca31",
   "metadata": {},
   "source": [
    "Q3. Considering the following changes in the variable, array_list:\n",
    "array_list = np.array(object = list_, dtype = int)\n",
    "Will there be any difference in the data type of the elements present in both the variables, list_ and\n",
    "arra_list? If so then print the data types of each and every element present in both the variables, list_\n",
    "and arra_list."
   ]
  },
  {
   "cell_type": "code",
   "execution_count": 27,
   "id": "f451180d-2d06-4814-a50c-95076a62176d",
   "metadata": {},
   "outputs": [
    {
     "data": {
      "text/plain": [
       "array([1, 2, 3, 4, 5])"
      ]
     },
     "execution_count": 27,
     "metadata": {},
     "output_type": "execute_result"
    }
   ],
   "source": [
    "array_list"
   ]
  },
  {
   "cell_type": "code",
   "execution_count": 28,
   "id": "457b66e6-c5ea-4c75-98ec-bf9c3402734c",
   "metadata": {},
   "outputs": [
    {
     "data": {
      "text/plain": [
       "numpy.ndarray"
      ]
     },
     "execution_count": 28,
     "metadata": {},
     "output_type": "execute_result"
    }
   ],
   "source": [
    "type(array_list)"
   ]
  },
  {
   "cell_type": "code",
   "execution_count": 31,
   "id": "0d353c14-23e8-4a57-8725-50526fdf5c8b",
   "metadata": {},
   "outputs": [
    {
     "name": "stdout",
     "output_type": "stream",
     "text": [
      "\n",
      "Data of each and every elements of array list\n",
      "<class 'numpy.ndarray'>\n",
      "<class 'numpy.ndarray'>\n",
      "<class 'numpy.ndarray'>\n",
      "<class 'numpy.ndarray'>\n",
      "<class 'numpy.ndarray'>\n"
     ]
    }
   ],
   "source": [
    "def dtypes2(x):\n",
    "    for i in array_list:\n",
    "        print(type(array_list))\n",
    "print(\"\\nData of each and every elements of array list\")     \n",
    "dtypes2(3)"
   ]
  },
  {
   "cell_type": "code",
   "execution_count": 49,
   "id": "0d0891df-522c-4df7-9bab-f6f347ab4bed",
   "metadata": {},
   "outputs": [
    {
     "name": "stdout",
     "output_type": "stream",
     "text": [
      "Data types of elements in 'list_':\n",
      "<class 'int'>\n",
      "<class 'int'>\n",
      "<class 'str'>\n",
      "<class 'float'>\n",
      "<class 'bool'>\n",
      "Data types of elements in 'array_list':\n",
      "<class 'numpy.int64'>\n",
      "<class 'numpy.int64'>\n",
      "<class 'numpy.int64'>\n",
      "<class 'numpy.int64'>\n",
      "<class 'numpy.int64'>\n"
     ]
    }
   ],
   "source": [
    "import pandas as pd\n",
    "\n",
    "list_ = [1, 2, '3', 4.5, True]\n",
    "\n",
    "array_list = np.array(list_, dtype=int)\n",
    "\n",
    "def print_data_types(variable_name, data_list):\n",
    "    print(f\"Data types of elements in '{variable_name}':\")\n",
    "    for element in data_list:\n",
    "        print(type(element))\n",
    "\n",
    "\n",
    "print_data_types('list_', list_)\n",
    "\n",
    "\n",
    "print_data_types('array_list', array_list)"
   ]
  },
  {
   "cell_type": "markdown",
   "id": "4ee9336b-b38f-462b-93b8-c448c53ff227",
   "metadata": {},
   "source": [
    "Q4. Write a code to find the following characteristics of variable, num_array:\n",
    "(i) shape\n",
    "(ii) size"
   ]
  },
  {
   "cell_type": "code",
   "execution_count": 50,
   "id": "b5791af0-6633-4c06-b62c-cecbe430fef2",
   "metadata": {},
   "outputs": [
    {
     "data": {
      "text/plain": [
       "array([[1, 2, 3],\n",
       "       [4, 5, 6]])"
      ]
     },
     "execution_count": 50,
     "metadata": {},
     "output_type": "execute_result"
    }
   ],
   "source": [
    "num_list = [ [ 1 , 2 , 3 ] , [ 4 , 5 , 6 ] ]\n",
    "num_array = np.array(object = num_list)\n",
    "num_array"
   ]
  },
  {
   "cell_type": "code",
   "execution_count": 52,
   "id": "8b134b28-9f77-4ffb-9071-fa205bc6edc3",
   "metadata": {},
   "outputs": [
    {
     "name": "stdout",
     "output_type": "stream",
     "text": [
      "The shape of varaible shape is :  (2, 3)\n",
      "The size of varaible size is : 6\n"
     ]
    }
   ],
   "source": [
    "shape=num_array.shape\n",
    "print(\"The shape of varaible shape is : \",shape)\n",
    "\n",
    "size=num_array.size\n",
    "print(\"The size of varaible size is :\",size)\n"
   ]
  },
  {
   "cell_type": "markdown",
   "id": "baff0222-5a19-4327-8609-824d0ceb6972",
   "metadata": {},
   "source": [
    "Q5. Write a code to create numpy array of 3*3 matrix containing zeros only, using a numpy array\n",
    "creation function.\n",
    "[Hint: The size of the array will be 9 and the shape will be (3,3).]"
   ]
  },
  {
   "cell_type": "code",
   "execution_count": 55,
   "id": "8b7dbc27-0879-436a-9efa-ba58e8b16bdf",
   "metadata": {},
   "outputs": [
    {
     "name": "stdout",
     "output_type": "stream",
     "text": [
      "Here is the numpy array of 3*3 matrix containing zeroes only \n"
     ]
    },
    {
     "data": {
      "text/plain": [
       "array([[0., 0., 0.],\n",
       "       [0., 0., 0.],\n",
       "       [0., 0., 0.]])"
      ]
     },
     "execution_count": 55,
     "metadata": {},
     "output_type": "execute_result"
    }
   ],
   "source": [
    "\n",
    "print(\"Here is the numpy array of 3*3 matrix containing zeroes only \")\n",
    "np.zeros([3,3])"
   ]
  },
  {
   "cell_type": "markdown",
   "id": "24ae2690-0a44-4f00-8bcd-b6b93c50a9da",
   "metadata": {},
   "source": [
    "Q6. Create an identity matrix of shape (5,5) using numpy functions?\n",
    "[Hint: An identity matrix is a matrix containing 1 diagonally and other elements will be 0.]"
   ]
  },
  {
   "cell_type": "code",
   "execution_count": 58,
   "id": "b0717175-13f5-4be2-af21-6f481ecf7a36",
   "metadata": {},
   "outputs": [
    {
     "data": {
      "text/plain": [
       "array([[1., 0., 0., 0., 0.],\n",
       "       [0., 1., 0., 0., 0.],\n",
       "       [0., 0., 1., 0., 0.],\n",
       "       [0., 0., 0., 1., 0.],\n",
       "       [0., 0., 0., 0., 1.]])"
      ]
     },
     "execution_count": 58,
     "metadata": {},
     "output_type": "execute_result"
    }
   ],
   "source": [
    "print(\"\")\n",
    "np.eye(5)"
   ]
  },
  {
   "cell_type": "code",
   "execution_count": null,
   "id": "5191c8b1-a7fb-4e6b-b937-4fe18528276a",
   "metadata": {},
   "outputs": [],
   "source": []
  }
 ],
 "metadata": {
  "kernelspec": {
   "display_name": "Python 3 (ipykernel)",
   "language": "python",
   "name": "python3"
  },
  "language_info": {
   "codemirror_mode": {
    "name": "ipython",
    "version": 3
   },
   "file_extension": ".py",
   "mimetype": "text/x-python",
   "name": "python",
   "nbconvert_exporter": "python",
   "pygments_lexer": "ipython3",
   "version": "3.10.8"
  }
 },
 "nbformat": 4,
 "nbformat_minor": 5
}
